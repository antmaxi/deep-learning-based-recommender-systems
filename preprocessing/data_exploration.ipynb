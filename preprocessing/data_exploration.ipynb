{
 "cells": [
  {
   "cell_type": "code",
   "execution_count": 136,
   "metadata": {
    "autoscroll": false,
    "collapsed": false,
    "ein.hycell": false,
    "ein.tags": "worksheet-0",
    "slideshow": {
     "slide_type": "-"
    }
   },
   "outputs": [],
   "source": [
    "%matplotlib inline\n",
    "import numpy as np\n",
    "import pandas as pd\n",
    "import random\n",
    "from copy import deepcopy\n"
   ]
  },
  {
   "cell_type": "code",
   "execution_count": 394,
   "metadata": {
    "autoscroll": false,
    "collapsed": false,
    "ein.hycell": false,
    "ein.tags": "worksheet-0",
    "slideshow": {
     "slide_type": "-"
    }
   },
   "outputs": [],
   "source": [
    "class DataGenerator(object):\n",
    "    \"\"\"Construct dataset for deep learning project\"\"\"\n",
    "    def __init__(self, ratings):\n",
    "        \"\"\"\n",
    "        args:\n",
    "            ratings: pd.DataFrame, which contains 4 columns = ['userId', 'itemId', 'rating', 'timestamp']\n",
    "        \"\"\"\n",
    "        assert 'userId' in ratings.columns\n",
    "        assert 'itemId' in ratings.columns\n",
    "        assert 'rating' in ratings.columns\n",
    "\n",
    "        self.ratings = ratings\n",
    "        preprocess_ratings = self._binarize(ratings)\n",
    "        self.user_pool = set(self.ratings['userId'].unique())\n",
    "        self.item_pool = set(self.ratings['itemId'].unique())\n",
    "        # create negative item samples for Mem learning\n",
    "        self.negatives = self._sample_negative(ratings)\n",
    "        self.train_ratings, self.test_ratings = self._train_test_split_loo(preprocess_ratings)\n",
    "\n",
    "    \n",
    "    def _binarize(self, ratings):\n",
    "        \"\"\"binarize into 0 or 1, imlicit feedback\"\"\"\n",
    "        ratings = deepcopy(ratings)\n",
    "        ratings['rating'][ratings['rating'] > 0] = 1.0\n",
    "        return ratings\n",
    "\n",
    "    def _train_test_split_loo(self, ratings):\n",
    "        \"\"\"leave one out train/test split \"\"\"\n",
    "        ratings['rank_latest'] = ratings.groupby(['userId'])['timestamp'].rank(method='first', ascending=False)\n",
    "        # Test sample are the ones with the heighest time stamp\n",
    "        test = ratings[ratings['rank_latest'] == 1]\n",
    "        # all others are in the traingis set\n",
    "        train = ratings[ratings['rank_latest'] > 1]\n",
    "        # Each user should at least have rated x samples => both sets should contain the same userIds\n",
    "        assert train['userId'].nunique() == test['userId'].nunique()\n",
    "        return train[['userId', 'itemId', 'rating']], test[['userId', 'itemId', 'rating']]\n",
    "\n",
    "    def _sample_negative(self, ratings):\n",
    "        \"\"\"return all negative items & 100 sampled negative items\"\"\"\n",
    "        # Creates for each unique user a set of items that he interacted with\n",
    "        interact_status = ratings.groupby('userId')['itemId'].apply(set).reset_index().rename(\n",
    "            columns={'itemId': 'interacted_items'})\n",
    "        interact_status['negative_items'] = interact_status['interacted_items'].apply(lambda x: self.item_pool - x)\n",
    "        interact_status['negative_samples'] = interact_status['negative_items'].apply(lambda x: random.sample(x, 99))\n",
    "        return interact_status[['userId', 'negative_items', 'negative_samples']]\n",
    "\n",
    "    def save(self, filename, format=\"CMN\"):\n",
    "        \"\"\"\n",
    "        CMN format required\n",
    "        - train_data.npy\n",
    "            [[user id, item id], ...]\n",
    "        - test_data.npy\n",
    "            {userid: (pos_id, [neg_id1, neg_id2, ..., neg_id100])}\n",
    "        \"\"\"\n",
    "        if format == \"CMN\":\n",
    "            train_data = self.train_ratings[[\"userId\",\"itemId\"]].to_numpy()\n",
    "            test_data = pd.merge(self.test_ratings, self.negatives[['userId', 'negative_samples']], on='userId')\n",
    "            test_data = test_data[[\"userId\",\"itemId\",\"negative_samples\"]]\n",
    "            #test_data = test_data.apply(lambda r: {r[\"userId\"]: (r['itemId'], r[\"negative_samples\"])}, axis=1).to_numpy()\n",
    "            test_data = dict([(i,(a, b)) for i, a,b in zip(test_data.userId, test_data.itemId, test_data.negative_samples)])\n",
    "            np.savez(filename, train_data=train_data, test_data=test_data)\n",
    "            \n",
    "        elif format == \"NCF\":\n",
    "            pass\n",
    "    # def instance_a_train_loader(self, num_negatives, batch_size):\n",
    "    #     \"\"\"instance train loader for one training epoch\"\"\"\n",
    "    #     users, items, ratings = [], [], []\n",
    "    #     train_ratings = pd.merge(self.train_ratings, self.negatives[['userId', 'negative_items']], on='userId')\n",
    "    #     train_ratings['negatives'] = train_ratings['negative_items'].apply(lambda x: random.sample(x, num_negatives))\n",
    "    #     for row in train_ratings.itertuples():\n",
    "    #         users.append(int(row.userId))\n",
    "    #         items.append(int(row.itemId))\n",
    "    #         ratings.append(float(row.rating))\n",
    "    #         for i in range(num_negatives):\n",
    "    #             users.append(int(row.userId))\n",
    "    #             items.append(int(row.negatives[i]))\n",
    "    #             ratings.append(float(0))  # negative samples get 0 rating\n",
    "    #     dataset = UserItemRatingDataset(user_tensor=torch.LongTensor(users),\n",
    "    #                                     item_tensor=torch.LongTensor(items),\n",
    "    #                                     target_tensor=torch.FloatTensor(ratings))\n",
    "    #     return DataLoader(dataset, batch_size=batch_size, shuffle=True)\n",
    "\n",
    "    # @property\n",
    "    # def evaluate_data(self):\n",
    "    #     \"\"\"create evaluate data\"\"\"\n",
    "    #     test_ratings = pd.merge(self.test_ratings, self.negatives[['userId', 'negative_samples']], on='userId')\n",
    "    #     test_users, test_items, negative_users, negative_items = [], [], [], []\n",
    "    #     for row in test_ratings.itertuples():\n",
    "    #         test_users.append(int(row.userId))\n",
    "    #         test_items.append(int(row.itemId))\n",
    "    #         for i in range(len(row.negative_samples)):\n",
    "    #             negative_users.append(int(row.userId))\n",
    "    #             negative_items.append(int(row.negative_samples[i]))\n",
    "    #     return [torch.LongTensor(test_users), torch.LongTensor(test_items), torch.LongTensor(negative_users),\n",
    "    #             torch.LongTensor(negative_items)]"
   ]
  },
  {
   "cell_type": "markdown",
   "metadata": {
    "ein.tags": "worksheet-0",
    "slideshow": {
     "slide_type": "-"
    }
   },
   "source": [
    "# ML1M-data"
   ]
  },
  {
   "cell_type": "code",
   "execution_count": 315,
   "metadata": {
    "autoscroll": false,
    "collapsed": false,
    "ein.hycell": false,
    "ein.tags": "worksheet-0",
    "slideshow": {
     "slide_type": "-"
    }
   },
   "outputs": [
    {
     "name": "stdout",
     "output_type": "stream",
     "text": [
      "Range of userId is [0, 6039]\n",
      "Range of itemId is [0, 3705]\n"
     ]
    }
   ],
   "source": [
    "ml1m_dir = '/home/pollakg/polybox/CSE/master/2nd_term/Deep Learning/project/project-git/data/ml-1m/ratings.dat'\n",
    "ml1m_rating = pd.read_csv(ml1m_dir, sep='::', header=None, names=['uid', 'mid', 'rating', 'timestamp'],  engine='python')\n",
    "# Reindex\n",
    "unique_user_id = ml1m_rating[['uid']].drop_duplicates().reindex() # Create df of unique users\n",
    "unique_user_id['userId'] = np.arange(len(unique_user_id)) # append userId [uid, userId] [starts from 0, starts from 1]\n",
    "# Merge based on same uid => add userId with corresponding fitting uid\n",
    "ml1m_rating = pd.merge(ml1m_rating, unique_user_id, on=['uid'], how='left')\n",
    "unique_item_id = ml1m_rating[['mid']].drop_duplicates()\n",
    "unique_item_id['itemId'] = np.arange(len(unique_item_id))\n",
    "ml1m_rating = pd.merge(ml1m_rating, unique_item_id, on=['mid'], how='left')\n",
    "ml1m_rating = ml1m_rating[['userId', 'itemId', 'rating', 'timestamp']]\n",
    "print('Range of userId is [{}, {}]'.format(ml1m_rating.userId.min(), ml1m_rating.userId.max()))\n",
    "print('Range of itemId is [{}, {}]'.format(ml1m_rating.itemId.min(), ml1m_rating.itemId.max()))\n"
   ]
  },
  {
   "cell_type": "code",
   "execution_count": 395,
   "metadata": {
    "autoscroll": false,
    "collapsed": false,
    "ein.hycell": false,
    "ein.tags": "worksheet-0",
    "slideshow": {
     "slide_type": "-"
    }
   },
   "outputs": [],
   "source": [
    "df = DataGenerator(ml1m_rating)"
   ]
  },
  {
   "cell_type": "code",
   "execution_count": 396,
   "metadata": {
    "autoscroll": false,
    "collapsed": false,
    "ein.hycell": false,
    "ein.tags": "worksheet-0",
    "slideshow": {
     "slide_type": "-"
    }
   },
   "outputs": [],
   "source": [
    "test_data = pd.merge(df.test_ratings, df.negatives[['userId', 'negative_samples']], on='userId')\n",
    "test_data = test_data[[\"userId\",\"itemId\",\"negative_samples\"]]\n"
   ]
  },
  {
   "cell_type": "code",
   "execution_count": 397,
   "metadata": {
    "autoscroll": false,
    "collapsed": false,
    "ein.hycell": false,
    "ein.tags": "worksheet-0",
    "slideshow": {
     "slide_type": "-"
    }
   },
   "outputs": [
    {
     "name": "stdout",
     "output_type": "stream",
     "text": [
      "dict_keys(['ratings', 'user_pool', 'item_pool', 'negatives', 'train_ratings', 'test_ratings'])\n"
     ]
    }
   ],
   "source": [
    "print(df.__dict__.keys())\n",
    "df.save(\"/home/pollakg/polybox/CSE/master/2nd_term/Deep Learning/project/project-git/data/ml-1m/ml.npz\")\n"
   ]
  },
  {
   "cell_type": "markdown",
   "metadata": {
    "ein.tags": "worksheet-0",
    "slideshow": {
     "slide_type": "-"
    }
   },
   "source": [
    "## Just for testing purposes"
   ]
  },
  {
   "cell_type": "code",
   "execution_count": null,
   "metadata": {
    "autoscroll": false,
    "collapsed": false,
    "ein.hycell": false,
    "ein.tags": "worksheet-0",
    "slideshow": {
     "slide_type": "-"
    }
   },
   "outputs": [],
   "source": [
    "ml1m_dir = '/home/pollakg/polybox/CSE/master/2nd_term/Deep Learning/project/project-git/data/ml-1m/ml.npz'\n",
    "_data = np.load(ml1m_dir, allow_pickle=True)\n",
    "train_data = _data['train_data'][:, :2]\n",
    "test_data_ = _data['test_data']\n",
    "test_data_.tolist().keys()\n",
    "\n",
    "# # Neighborhoods\n",
    "# user_items = defaultdict(set)\n",
    "# item_users = defaultdict(set)\n",
    "# for u, i in train_data:\n",
    "#     user_items[u].add(i)\n",
    "#     item_users[i].add(u)\n",
    "# # Get a list version so we do not need to perform type casting\n",
    "# item_users_list = {k: list(v) for k, v in item_users.items()}\n",
    "# # maximum number of users that rated an item i\n",
    "# _max_user_neighbors = max([len(x) for x in self.item_users.values()])\n",
    "# user_items = dict(self.user_items)\n",
    "# item_users = dict(self.item_users)\n"
   ]
  },
  {
   "cell_type": "code",
   "execution_count": 316,
   "metadata": {
    "autoscroll": false,
    "collapsed": false,
    "ein.hycell": false,
    "ein.tags": "worksheet-0",
    "slideshow": {
     "slide_type": "-"
    }
   },
   "outputs": [],
   "source": [
    "files = [\"citeulike-a.npz\", \"pinterest.npz\"]\n",
    "npz_files = []\n",
    "test = {}\n",
    "train = {}\n",
    "for f in files:\n",
    "    npz = np.load(f, allow_pickle=True)\n",
    "    train[f] = npz[\"train_data\"]\n",
    "    test[f] = npz[\"test_data\"]\n",
    "    #print(len(test[f]), len(test[f][0]),\"[1, \",len(test[f][0][1]),\"]\")\n",
    "\n",
    "train[\"pinterest.npz\"][:, :2]\n",
    "test[\"pinterest.npz\"].tolist()"
   ]
  },
  {
   "cell_type": "code",
   "execution_count": 328,
   "metadata": {
    "autoscroll": false,
    "collapsed": false,
    "ein.hycell": false,
    "ein.tags": "worksheet-0",
    "slideshow": {
     "slide_type": "-"
    }
   },
   "outputs": [
    {
     "name": "stdout",
     "output_type": "stream",
     "text": [
      "<class 'numpy.ndarray'>\n",
      "<class 'numpy.ndarray'>\n",
      "(1445622, 2)\n",
      "()\n",
      "[[ 0  3]\n",
      " [ 0  4]\n",
      " [ 0  5]\n",
      " [ 0  6]\n",
      " [ 0  7]\n",
      " [ 0  8]\n",
      " [ 0  9]\n",
      " [ 0 10]\n",
      " [ 0 11]\n",
      " [ 0  0]\n",
      " [ 0 13]\n",
      " [ 0 14]\n",
      " [ 0 15]\n",
      " [ 0 16]\n",
      " [ 0 17]\n",
      " [ 0 18]\n",
      " [ 0 19]\n",
      " [ 0 20]\n",
      " [ 0  0]]\n",
      "100\n"
     ]
    }
   ],
   "source": [
    "print(type(train[\"pinterest.npz\"]))\n",
    "print(type(test[\"pinterest.npz\"]))\n",
    "print(train[\"pinterest.npz\"].shape)\n",
    "print(test[\"pinterest.npz\"].shape)\n",
    "print(train[\"pinterest.npz\"][1:20])\n",
    "print(len(test[\"pinterest.npz\"].tolist()[0][1]))"
   ]
  }
 ],
 "metadata": {
  "kernelspec": {
   "argv": [
    "/home/pollakg/.local/share/virtualenvs/master-Ia_jUSae/bin/python",
    "-m",
    "ipykernel_launcher",
    "-f",
    "{connection_file}"
   ],
   "display_name": "master-kernel",
   "env": null,
   "interrupt_mode": "signal",
   "language": "python",
   "metadata": null,
   "name": "master-kernel"
  },
  "name": "data_exploration.ipynb"
 },
 "nbformat": 4,
 "nbformat_minor": 2
}
